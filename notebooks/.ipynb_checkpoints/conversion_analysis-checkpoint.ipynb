{
 "cells": [
  {
   "cell_type": "markdown",
   "id": "3f546a31",
   "metadata": {},
   "source": [
    "# Improving Conversion on Marketplaces\n",
    "\n",
    "This notebook follows the CRISP-DM framework to explore, model, and evaluate conversion optimization strategies in online marketplaces."
   ]
  },
  {
   "cell_type": "markdown",
   "id": "1ea78848",
   "metadata": {},
   "source": [
    "## Step 1: Business Understanding\n",
    "Goal: Improve conversion rates in a two-sided marketplace (e.g., Airbnb, Getmyboat).\n",
    "\n",
    "Conversion = when a user completes a meaningful action (e.g., booking, inquiry).\n",
    "\n",
    "Objective: Identify patterns in user and listing behavior to predict conversion likelihood."
   ]
  },
  {
   "cell_type": "code",
   "execution_count": 1,
   "id": "22790a67-9cea-4742-83d8-f8e620b1cbfd",
   "metadata": {
    "scrolled": true
   },
   "outputs": [
    {
     "data": {
      "text/html": [
       "<div>\n",
       "<style scoped>\n",
       "    .dataframe tbody tr th:only-of-type {\n",
       "        vertical-align: middle;\n",
       "    }\n",
       "\n",
       "    .dataframe tbody tr th {\n",
       "        vertical-align: top;\n",
       "    }\n",
       "\n",
       "    .dataframe thead th {\n",
       "        text-align: right;\n",
       "    }\n",
       "</style>\n",
       "<table border=\"1\" class=\"dataframe\">\n",
       "  <thead>\n",
       "    <tr style=\"text-align: right;\">\n",
       "      <th></th>\n",
       "      <th>order_id</th>\n",
       "      <th>customer_id</th>\n",
       "      <th>order_status</th>\n",
       "      <th>order_purchase_timestamp</th>\n",
       "      <th>order_approved_at</th>\n",
       "      <th>order_delivered_carrier_date</th>\n",
       "      <th>order_delivered_customer_date</th>\n",
       "      <th>order_estimated_delivery_date</th>\n",
       "    </tr>\n",
       "  </thead>\n",
       "  <tbody>\n",
       "    <tr>\n",
       "      <th>0</th>\n",
       "      <td>e481f51cbdc54678b7cc49136f2d6af7</td>\n",
       "      <td>9ef432eb6251297304e76186b10a928d</td>\n",
       "      <td>delivered</td>\n",
       "      <td>2017-10-02 10:56:33</td>\n",
       "      <td>2017-10-02 11:07:15</td>\n",
       "      <td>2017-10-04 19:55:00</td>\n",
       "      <td>2017-10-10 21:25:13</td>\n",
       "      <td>2017-10-18 00:00:00</td>\n",
       "    </tr>\n",
       "    <tr>\n",
       "      <th>1</th>\n",
       "      <td>53cdb2fc8bc7dce0b6741e2150273451</td>\n",
       "      <td>b0830fb4747a6c6d20dea0b8c802d7ef</td>\n",
       "      <td>delivered</td>\n",
       "      <td>2018-07-24 20:41:37</td>\n",
       "      <td>2018-07-26 03:24:27</td>\n",
       "      <td>2018-07-26 14:31:00</td>\n",
       "      <td>2018-08-07 15:27:45</td>\n",
       "      <td>2018-08-13 00:00:00</td>\n",
       "    </tr>\n",
       "    <tr>\n",
       "      <th>2</th>\n",
       "      <td>47770eb9100c2d0c44946d9cf07ec65d</td>\n",
       "      <td>41ce2a54c0b03bf3443c3d931a367089</td>\n",
       "      <td>delivered</td>\n",
       "      <td>2018-08-08 08:38:49</td>\n",
       "      <td>2018-08-08 08:55:23</td>\n",
       "      <td>2018-08-08 13:50:00</td>\n",
       "      <td>2018-08-17 18:06:29</td>\n",
       "      <td>2018-09-04 00:00:00</td>\n",
       "    </tr>\n",
       "    <tr>\n",
       "      <th>3</th>\n",
       "      <td>949d5b44dbf5de918fe9c16f97b45f8a</td>\n",
       "      <td>f88197465ea7920adcdbec7375364d82</td>\n",
       "      <td>delivered</td>\n",
       "      <td>2017-11-18 19:28:06</td>\n",
       "      <td>2017-11-18 19:45:59</td>\n",
       "      <td>2017-11-22 13:39:59</td>\n",
       "      <td>2017-12-02 00:28:42</td>\n",
       "      <td>2017-12-15 00:00:00</td>\n",
       "    </tr>\n",
       "    <tr>\n",
       "      <th>4</th>\n",
       "      <td>ad21c59c0840e6cb83a9ceb5573f8159</td>\n",
       "      <td>8ab97904e6daea8866dbdbc4fb7aad2c</td>\n",
       "      <td>delivered</td>\n",
       "      <td>2018-02-13 21:18:39</td>\n",
       "      <td>2018-02-13 22:20:29</td>\n",
       "      <td>2018-02-14 19:46:34</td>\n",
       "      <td>2018-02-16 18:17:02</td>\n",
       "      <td>2018-02-26 00:00:00</td>\n",
       "    </tr>\n",
       "  </tbody>\n",
       "</table>\n",
       "</div>"
      ],
      "text/plain": [
       "                           order_id                       customer_id  \\\n",
       "0  e481f51cbdc54678b7cc49136f2d6af7  9ef432eb6251297304e76186b10a928d   \n",
       "1  53cdb2fc8bc7dce0b6741e2150273451  b0830fb4747a6c6d20dea0b8c802d7ef   \n",
       "2  47770eb9100c2d0c44946d9cf07ec65d  41ce2a54c0b03bf3443c3d931a367089   \n",
       "3  949d5b44dbf5de918fe9c16f97b45f8a  f88197465ea7920adcdbec7375364d82   \n",
       "4  ad21c59c0840e6cb83a9ceb5573f8159  8ab97904e6daea8866dbdbc4fb7aad2c   \n",
       "\n",
       "  order_status order_purchase_timestamp    order_approved_at  \\\n",
       "0    delivered      2017-10-02 10:56:33  2017-10-02 11:07:15   \n",
       "1    delivered      2018-07-24 20:41:37  2018-07-26 03:24:27   \n",
       "2    delivered      2018-08-08 08:38:49  2018-08-08 08:55:23   \n",
       "3    delivered      2017-11-18 19:28:06  2017-11-18 19:45:59   \n",
       "4    delivered      2018-02-13 21:18:39  2018-02-13 22:20:29   \n",
       "\n",
       "  order_delivered_carrier_date order_delivered_customer_date  \\\n",
       "0          2017-10-04 19:55:00           2017-10-10 21:25:13   \n",
       "1          2018-07-26 14:31:00           2018-08-07 15:27:45   \n",
       "2          2018-08-08 13:50:00           2018-08-17 18:06:29   \n",
       "3          2017-11-22 13:39:59           2017-12-02 00:28:42   \n",
       "4          2018-02-14 19:46:34           2018-02-16 18:17:02   \n",
       "\n",
       "  order_estimated_delivery_date  \n",
       "0           2017-10-18 00:00:00  \n",
       "1           2018-08-13 00:00:00  \n",
       "2           2018-09-04 00:00:00  \n",
       "3           2017-12-15 00:00:00  \n",
       "4           2018-02-26 00:00:00  "
      ]
     },
     "execution_count": 1,
     "metadata": {},
     "output_type": "execute_result"
    }
   ],
   "source": [
    "# Load necessary libraries\n",
    "import pandas as pd\n",
    "import numpy as np\n",
    "import matplotlib.pyplot as plt\n",
    "import seaborn as sns\n",
    "\n",
    "# Load raw CSV files from Olist dataset\n",
    "orders = pd.read_csv(\"../data/raw/olist_orders_dataset.csv\")\n",
    "customers = pd.read_csv(\"../data/raw/olist_customers_dataset.csv\")\n",
    "order_items = pd.read_csv(\"../data/raw/olist_order_items_dataset.csv\")\n",
    "products = pd.read_csv(\"../data/raw/olist_products_dataset.csv\")\n",
    "reviews = pd.read_csv(\"../data/raw/olist_order_reviews_dataset.csv\")\n",
    "payments = pd.read_csv(\"../data/raw/olist_order_payments_dataset.csv\")\n",
    "\n",
    "# Preview one of the tables to check it's working\n",
    "orders.head()"
   ]
  },
  {
   "cell_type": "markdown",
   "id": "e56edd8a",
   "metadata": {},
   "source": [
    "## Step 2: Data Understanding"
   ]
  },
  {
   "cell_type": "code",
   "execution_count": 2,
   "id": "efde2d65",
   "metadata": {
    "scrolled": true
   },
   "outputs": [
    {
     "data": {
      "image/png": "[encoded data removed]",
      "text/plain": [
       "<Figure size 640x480 with 1 Axes>"
      ]
     },
     "metadata": {},
     "output_type": "display_data"
    }
   ],
   "source": [
    "# Define conversion: 1 = delivered, 0 = otherwise\n",
    "orders['converted'] = orders['order_status'].apply(lambda x: 1 if x == 'delivered' else 0)\n",
    "\n",
    "# Check distribution\n",
    "sns.countplot(x='converted', data=orders)\n",
    "plt.title('Order Conversion Distribution')\n",
    "plt.show()"
   ]
  },
  {
   "cell_type": "markdown",
   "id": "713de5b7",
   "metadata": {},
   "source": [
    "## Step 3: Data Preparation"
   ]
  },
  {
   "cell_type": "code",
   "execution_count": 3,
   "id": "35572f9c",
   "metadata": {},
   "outputs": [
    {
     "name": "stdout",
     "output_type": "stream",
     "text": [
      "<class 'pandas.core.frame.DataFrame'>\n",
      "Index: 117329 entries, 0 to 119142\n",
      "Data columns (total 6 columns):\n",
      " #   Column         Non-Null Count   Dtype  \n",
      "---  ------         --------------   -----  \n",
      " 0   converted      117329 non-null  int64  \n",
      " 1   price          117329 non-null  float64\n",
      " 2   freight_value  117329 non-null  float64\n",
      " 3   review_score   117329 non-null  float64\n",
      " 4   payment_value  117329 non-null  float64\n",
      " 5   payment_type   117329 non-null  object \n",
      "dtypes: float64(4), int64(1), object(1)\n",
      "memory usage: 6.3+ MB\n"
     ]
    },
    {
     "data": {
      "text/html": [
       "<div>\n",
       "<style scoped>\n",
       "    .dataframe tbody tr th:only-of-type {\n",
       "        vertical-align: middle;\n",
       "    }\n",
       "\n",
       "    .dataframe tbody tr th {\n",
       "        vertical-align: top;\n",
       "    }\n",
       "\n",
       "    .dataframe thead th {\n",
       "        text-align: right;\n",
       "    }\n",
       "</style>\n",
       "<table border=\"1\" class=\"dataframe\">\n",
       "  <thead>\n",
       "    <tr style=\"text-align: right;\">\n",
       "      <th></th>\n",
       "      <th>converted</th>\n",
       "      <th>price</th>\n",
       "      <th>freight_value</th>\n",
       "      <th>review_score</th>\n",
       "      <th>payment_value</th>\n",
       "      <th>payment_type</th>\n",
       "    </tr>\n",
       "  </thead>\n",
       "  <tbody>\n",
       "    <tr>\n",
       "      <th>0</th>\n",
       "      <td>1</td>\n",
       "      <td>29.99</td>\n",
       "      <td>8.72</td>\n",
       "      <td>4.0</td>\n",
       "      <td>18.12</td>\n",
       "      <td>credit_card</td>\n",
       "    </tr>\n",
       "    <tr>\n",
       "      <th>1</th>\n",
       "      <td>1</td>\n",
       "      <td>29.99</td>\n",
       "      <td>8.72</td>\n",
       "      <td>4.0</td>\n",
       "      <td>2.00</td>\n",
       "      <td>voucher</td>\n",
       "    </tr>\n",
       "    <tr>\n",
       "      <th>2</th>\n",
       "      <td>1</td>\n",
       "      <td>29.99</td>\n",
       "      <td>8.72</td>\n",
       "      <td>4.0</td>\n",
       "      <td>18.59</td>\n",
       "      <td>voucher</td>\n",
       "    </tr>\n",
       "    <tr>\n",
       "      <th>3</th>\n",
       "      <td>1</td>\n",
       "      <td>118.70</td>\n",
       "      <td>22.76</td>\n",
       "      <td>4.0</td>\n",
       "      <td>141.46</td>\n",
       "      <td>boleto</td>\n",
       "    </tr>\n",
       "    <tr>\n",
       "      <th>4</th>\n",
       "      <td>1</td>\n",
       "      <td>159.90</td>\n",
       "      <td>19.22</td>\n",
       "      <td>5.0</td>\n",
       "      <td>179.12</td>\n",
       "      <td>credit_card</td>\n",
       "    </tr>\n",
       "  </tbody>\n",
       "</table>\n",
       "</div>"
      ],
      "text/plain": [
       "   converted   price  freight_value  review_score  payment_value payment_type\n",
       "0          1   29.99           8.72           4.0          18.12  credit_card\n",
       "1          1   29.99           8.72           4.0           2.00      voucher\n",
       "2          1   29.99           8.72           4.0          18.59      voucher\n",
       "3          1  118.70          22.76           4.0         141.46       boleto\n",
       "4          1  159.90          19.22           5.0         179.12  credit_card"
      ]
     },
     "execution_count": 3,
     "metadata": {},
     "output_type": "execute_result"
    }
   ],
   "source": [
    "# Merge key tables into a unified dataset for modeling\n",
    "\n",
    "# Merge orders with customers\n",
    "df = orders.merge(customers, on='customer_id', how='left')\n",
    "\n",
    "# Merge with order_items\n",
    "df = df.merge(order_items, on='order_id', how='left')\n",
    "\n",
    "# Merge with products\n",
    "df = df.merge(products, on='product_id', how='left')\n",
    "\n",
    "# Merge with reviews\n",
    "df = df.merge(reviews, on='order_id', how='left')\n",
    "\n",
    "# Merge with payments\n",
    "df = df.merge(payments, on='order_id', how='left')\n",
    "\n",
    "# Preview the merged dataset\n",
    "df.head()\n",
    "\n",
    "\n",
    "# Drop rows with missing critical values\n",
    "df = df.dropna(subset=['product_id', 'review_score', 'payment_type'])\n",
    "\n",
    "# Create modeling subset\n",
    "df_model = df[['converted', 'price', 'freight_value', 'review_score', 'payment_value', 'payment_type']]\n",
    "\n",
    "# Check structure\n",
    "df_model.info()\n",
    "df_model.head()"
   ]
  },
  {
   "cell_type": "markdown",
   "id": "3a741f74",
   "metadata": {},
   "source": [
    "## 🤖 Step 4: Modeling"
   ]
  },
  {
   "cell_type": "code",
   "execution_count": 4,
   "id": "a6ef9f88",
   "metadata": {},
   "outputs": [
    {
     "name": "stdout",
     "output_type": "stream",
     "text": [
      "📊 Classification Report:\n",
      "              precision    recall  f1-score   support\n",
      "\n",
      "           0       0.50      0.21      0.29       513\n",
      "           1       0.98      1.00      0.99     22953\n",
      "\n",
      "    accuracy                           0.98     23466\n",
      "   macro avg       0.74      0.60      0.64     23466\n",
      "weighted avg       0.97      0.98      0.97     23466\n",
      "\n",
      "🔁 ROC AUC Score: 0.8582\n"
     ]
    },
    {
     "data": {
      "image/png": "[encoded data removed]",
      "text/plain": [
       "<Figure size 640x480 with 1 Axes>"
      ]
     },
     "metadata": {},
     "output_type": "display_data"
    }
   ],
   "source": [
    "# Encode categorical variable: payment_type\n",
    "df_model_encoded = pd.get_dummies(df_model, columns=['payment_type'], drop_first=True)\n",
    "\n",
    "# Split data into train/test\n",
    "from sklearn.model_selection import train_test_split\n",
    "\n",
    "X = df_model_encoded.drop('converted', axis=1)\n",
    "y = df_model_encoded['converted']\n",
    "\n",
    "X_train, X_test, y_train, y_test = train_test_split(X, y, test_size=0.2, random_state=42)\n",
    "\n",
    "# Train Random Forest Classifier\n",
    "from sklearn.ensemble import RandomForestClassifier\n",
    "from sklearn.metrics import classification_report, roc_auc_score\n",
    "\n",
    "model = RandomForestClassifier(n_estimators=100, random_state=42)\n",
    "model.fit(X_train, y_train)\n",
    "\n",
    "# Predict and evaluate\n",
    "y_pred = model.predict(X_test)\n",
    "y_proba = model.predict_proba(X_test)[:, 1]\n",
    "\n",
    "print(\"📊 Classification Report:\")\n",
    "print(classification_report(y_test, y_pred))\n",
    "print(f\"🔁 ROC AUC Score: {roc_auc_score(y_test, y_proba):.4f}\")\n",
    "\n",
    "# Feature importance (Optional but insightful!)\n",
    "import seaborn as sns\n",
    "import matplotlib.pyplot as plt\n",
    "\n",
    "feature_importances = pd.Series(model.feature_importances_, index=X.columns)\n",
    "feature_importances.nlargest(10).plot(kind='barh')\n",
    "plt.title(\"Top 10 Feature Importances\")\n",
    "plt.xlabel(\"Importance Score\")\n",
    "plt.ylabel(\"Feature\")\n",
    "plt.tight_layout()\n",
    "plt.show()"
   ]
  },
  {
   "cell_type": "markdown",
   "id": "fafeb4d3",
   "metadata": {},
   "source": [
    "## Step 5: Evaluation & Scenario"
   ]
  },
  {
   "cell_type": "code",
   "execution_count": 5,
   "id": "0255dcca",
   "metadata": {},
   "outputs": [
    {
     "name": "stdout",
     "output_type": "stream",
     "text": [
      "Prediction Scenario Features:\n"
     ]
    },
    {
     "data": {
      "text/html": [
       "<div>\n",
       "<style scoped>\n",
       "    .dataframe tbody tr th:only-of-type {\n",
       "        vertical-align: middle;\n",
       "    }\n",
       "\n",
       "    .dataframe tbody tr th {\n",
       "        vertical-align: top;\n",
       "    }\n",
       "\n",
       "    .dataframe thead th {\n",
       "        text-align: right;\n",
       "    }\n",
       "</style>\n",
       "<table border=\"1\" class=\"dataframe\">\n",
       "  <thead>\n",
       "    <tr style=\"text-align: right;\">\n",
       "      <th></th>\n",
       "      <th>price</th>\n",
       "      <th>freight_value</th>\n",
       "      <th>review_score</th>\n",
       "      <th>payment_value</th>\n",
       "      <th>payment_type_credit_card</th>\n",
       "      <th>payment_type_debit_card</th>\n",
       "      <th>payment_type_voucher</th>\n",
       "    </tr>\n",
       "  </thead>\n",
       "  <tbody>\n",
       "    <tr>\n",
       "      <th>32755</th>\n",
       "      <td>197.0</td>\n",
       "      <td>21.87</td>\n",
       "      <td>5.0</td>\n",
       "      <td>218.87</td>\n",
       "      <td>True</td>\n",
       "      <td>False</td>\n",
       "      <td>False</td>\n",
       "    </tr>\n",
       "  </tbody>\n",
       "</table>\n",
       "</div>"
      ],
      "text/plain": [
       "       price  freight_value  review_score  payment_value  \\\n",
       "32755  197.0          21.87           5.0         218.87   \n",
       "\n",
       "       payment_type_credit_card  payment_type_debit_card  payment_type_voucher  \n",
       "32755                      True                    False                 False  "
      ]
     },
     "metadata": {},
     "output_type": "display_data"
    },
    {
     "name": "stdout",
     "output_type": "stream",
     "text": [
      "Predicted Conversion Probability: 99.00%\n",
      "Predicted Class: Converted (1)\n",
      "\n",
      " What-If Analysis:\n",
      "Lower Price (20% off) → Conversion Probability: 100.00%\n",
      "Review Score = 5.0     → Conversion Probability: 99.00%\n"
     ]
    }
   ],
   "source": [
    "# Simulated prediction scenario\n",
    "# Pick a random example from the test set\n",
    "scenario = X_test.sample(1, random_state=1)\n",
    "\n",
    "# Predict conversion probability and class\n",
    "conversion_prob = model.predict_proba(scenario)[:, 1][0]\n",
    "converted_class = model.predict(scenario)[0]\n",
    "\n",
    "print(\"Prediction Scenario Features:\")\n",
    "display(scenario)\n",
    "\n",
    "print(f\"Predicted Conversion Probability: {conversion_prob:.2%}\")\n",
    "print(f\"Predicted Class: {'Converted (1)' if converted_class == 1 else 'Not Converted (0)'}\")\n",
    "\n",
    "# ------------------------------------------------------\n",
    "# What-If Analysis: Test impact of changing features\n",
    "\n",
    "# Create a version with lower price (simulate a discount)\n",
    "scenario_low_price = scenario.copy()\n",
    "scenario_low_price['price'] *= 0.8  # 20% discount\n",
    "\n",
    "# Create a version with higher review score\n",
    "scenario_high_review = scenario.copy()\n",
    "if 'review_score' in scenario_high_review.columns:\n",
    "    scenario_high_review['review_score'] = 5.0\n",
    "\n",
    "# Run predictions\n",
    "low_price_prob = model.predict_proba(scenario_low_price)[:, 1][0]\n",
    "high_review_prob = model.predict_proba(scenario_high_review)[:, 1][0]\n",
    "\n",
    "# Display comparison\n",
    "print(\"\\n What-If Analysis:\")\n",
    "print(f\"Lower Price (20% off) → Conversion Probability: {low_price_prob:.2%}\")\n",
    "print(f\"Review Score = 5.0     → Conversion Probability: {high_review_prob:.2%}\")"
   ]
  },
  {
   "cell_type": "markdown",
   "id": "a5994e5f",
   "metadata": {},
   "source": [
    "## Step 6: Conclusion\n",
    "\n",
    "### Summary of Key Insights\n",
    "- The model successfully predicts the likelihood of a user converting (placing an order) based on features like **price**, **freight cost**, **review score**, and **payment type**.\n",
    "- Listings with **lower prices** and **higher review scores** tend to have a significantly higher chance of conversion.\n",
    "- Payment types also played a role — with some payment methods slightly more associated with conversions than others.\n",
    "\n",
    "### Practical Impact\n",
    "This model could be used to:\n",
    "- **Prioritize listings** shown to users based on likelihood of conversion\n",
    "- Help sellers **optimize pricing or invest in customer experience**\n",
    "- Provide **product recommendations** that align with buyer behavior\n",
    "\n",
    "### Next Steps\n",
    "- Perform **hyperparameter tuning** and try other models like XGBoost or Logistic Regression\n",
    "- Add **session behavior data** (e.g., time spent on product pages, number of views)\n",
    "- Use SHAP values for better **explainability**\n",
    "- Consider building a **recommender system** that incorporates conversion predictions\n",
    "\n",
    "---\n",
    "\n",
    "This project demonstrates how data science can drive marketplace growth by focusing on measurable outcomes like conversion rates."
   ]
  }
 ],
 "metadata": {
  "kernelspec": {
   "display_name": "udacity-ds-project",
   "language": "python",
   "name": "udacity-ds-project"
  },
  "language_info": {
   "codemirror_mode": {
    "name": "ipython",
    "version": 3
   },
   "file_extension": ".py",
   "mimetype": "text/x-python",
   "name": "python",
   "nbconvert_exporter": "python",
   "pygments_lexer": "ipython3",
   "version": "3.12.6"
  }
 },
 "nbformat": 4,
 "nbformat_minor": 5
}
