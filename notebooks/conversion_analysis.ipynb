{
 "cells": [
  {
   "cell_type": "markdown",
   "id": "3f546a31",
   "metadata": {},
   "source": [
    "# Improving Conversion on Marketplaces\n",
    "\n",
    "This notebook follows the CRISP-DM framework to explore, model, and evaluate conversion optimization strategies in online marketplaces."
   ]
  },
  {
   "cell_type": "markdown",
   "id": "1ea78848",
   "metadata": {},
   "source": [
    "## Step 1: Business Understanding\n",
    "Goal: Improve conversion rates in a two-sided marketplace (e.g., Airbnb, Getmyboat).\n",
    "\n",
    "Conversion = when a user completes a meaningful action (e.g., booking, inquiry).\n",
    "\n",
    "Objective: Identify patterns in user and listing behavior to predict conversion likelihood."
   ]
  },
  {
   "cell_type": "code",
   "execution_count": 2,
   "id": "9deb3662-6697-4ce5-89ae-7e6a426a72e6",
   "metadata": {},
   "outputs": [
    {
     "name": "stdout",
     "output_type": "stream",
     "text": [
      "/Users/yurilima/Library/CloudStorage/GoogleDrive-yuri.slimaaa@gmail.com/My Drive/Business/Courses/Udacity/Data Scientist/GitHub/market-conversion-optimization/notebooks\n"
     ]
    }
   ],
   "source": [
    "import os\n",
    "print(os.getcwd())"
   ]
  },
  {
   "cell_type": "code",
   "execution_count": 1,
   "id": "22790a67-9cea-4742-83d8-f8e620b1cbfd",
   "metadata": {
    "scrolled": true
   },
   "outputs": [
    {
     "ename": "FileNotFoundError",
     "evalue": "[Errno 2] No such file or directory: 'data/raw/olist_orders_dataset.csv'",
     "output_type": "error",
     "traceback": [
      "\u001b[31m---------------------------------------------------------------------------\u001b[39m",
      "\u001b[31mFileNotFoundError\u001b[39m                         Traceback (most recent call last)",
      "\u001b[36mCell\u001b[39m\u001b[36m \u001b[39m\u001b[32mIn[1]\u001b[39m\u001b[32m, line 8\u001b[39m\n\u001b[32m      5\u001b[39m \u001b[38;5;28;01mimport\u001b[39;00m\u001b[38;5;250m \u001b[39m\u001b[34;01mseaborn\u001b[39;00m\u001b[38;5;250m \u001b[39m\u001b[38;5;28;01mas\u001b[39;00m\u001b[38;5;250m \u001b[39m\u001b[34;01msns\u001b[39;00m\n\u001b[32m      7\u001b[39m \u001b[38;5;66;03m# Load raw CSV files from Olist dataset\u001b[39;00m\n\u001b[32m----> \u001b[39m\u001b[32m8\u001b[39m orders = \u001b[43mpd\u001b[49m\u001b[43m.\u001b[49m\u001b[43mread_csv\u001b[49m\u001b[43m(\u001b[49m\u001b[33;43m\"\u001b[39;49m\u001b[33;43mdata/raw/olist_orders_dataset.csv\u001b[39;49m\u001b[33;43m\"\u001b[39;49m\u001b[43m)\u001b[49m\n\u001b[32m      9\u001b[39m customers = pd.read_csv(\u001b[33m\"\u001b[39m\u001b[33mdata/raw/olist_customers_dataset.csv\u001b[39m\u001b[33m\"\u001b[39m)\n\u001b[32m     10\u001b[39m order_items = pd.read_csv(\u001b[33m\"\u001b[39m\u001b[33mdata/raw/olist_order_items_dataset.csv\u001b[39m\u001b[33m\"\u001b[39m)\n",
      "\u001b[36mFile \u001b[39m\u001b[32m~/Library/CloudStorage/GoogleDrive-yuri.slimaaa@gmail.com/My Drive/Business/Courses/Udacity/Data Scientist/GitHub/venv/lib/python3.12/site-packages/pandas/io/parsers/readers.py:1026\u001b[39m, in \u001b[36mread_csv\u001b[39m\u001b[34m(filepath_or_buffer, sep, delimiter, header, names, index_col, usecols, dtype, engine, converters, true_values, false_values, skipinitialspace, skiprows, skipfooter, nrows, na_values, keep_default_na, na_filter, verbose, skip_blank_lines, parse_dates, infer_datetime_format, keep_date_col, date_parser, date_format, dayfirst, cache_dates, iterator, chunksize, compression, thousands, decimal, lineterminator, quotechar, quoting, doublequote, escapechar, comment, encoding, encoding_errors, dialect, on_bad_lines, delim_whitespace, low_memory, memory_map, float_precision, storage_options, dtype_backend)\u001b[39m\n\u001b[32m   1013\u001b[39m kwds_defaults = _refine_defaults_read(\n\u001b[32m   1014\u001b[39m     dialect,\n\u001b[32m   1015\u001b[39m     delimiter,\n\u001b[32m   (...)\u001b[39m\u001b[32m   1022\u001b[39m     dtype_backend=dtype_backend,\n\u001b[32m   1023\u001b[39m )\n\u001b[32m   1024\u001b[39m kwds.update(kwds_defaults)\n\u001b[32m-> \u001b[39m\u001b[32m1026\u001b[39m \u001b[38;5;28;01mreturn\u001b[39;00m \u001b[43m_read\u001b[49m\u001b[43m(\u001b[49m\u001b[43mfilepath_or_buffer\u001b[49m\u001b[43m,\u001b[49m\u001b[43m \u001b[49m\u001b[43mkwds\u001b[49m\u001b[43m)\u001b[49m\n",
      "\u001b[36mFile \u001b[39m\u001b[32m~/Library/CloudStorage/GoogleDrive-yuri.slimaaa@gmail.com/My Drive/Business/Courses/Udacity/Data Scientist/GitHub/venv/lib/python3.12/site-packages/pandas/io/parsers/readers.py:620\u001b[39m, in \u001b[36m_read\u001b[39m\u001b[34m(filepath_or_buffer, kwds)\u001b[39m\n\u001b[32m    617\u001b[39m _validate_names(kwds.get(\u001b[33m\"\u001b[39m\u001b[33mnames\u001b[39m\u001b[33m\"\u001b[39m, \u001b[38;5;28;01mNone\u001b[39;00m))\n\u001b[32m    619\u001b[39m \u001b[38;5;66;03m# Create the parser.\u001b[39;00m\n\u001b[32m--> \u001b[39m\u001b[32m620\u001b[39m parser = \u001b[43mTextFileReader\u001b[49m\u001b[43m(\u001b[49m\u001b[43mfilepath_or_buffer\u001b[49m\u001b[43m,\u001b[49m\u001b[43m \u001b[49m\u001b[43m*\u001b[49m\u001b[43m*\u001b[49m\u001b[43mkwds\u001b[49m\u001b[43m)\u001b[49m\n\u001b[32m    622\u001b[39m \u001b[38;5;28;01mif\u001b[39;00m chunksize \u001b[38;5;129;01mor\u001b[39;00m iterator:\n\u001b[32m    623\u001b[39m     \u001b[38;5;28;01mreturn\u001b[39;00m parser\n",
      "\u001b[36mFile \u001b[39m\u001b[32m~/Library/CloudStorage/GoogleDrive-yuri.slimaaa@gmail.com/My Drive/Business/Courses/Udacity/Data Scientist/GitHub/venv/lib/python3.12/site-packages/pandas/io/parsers/readers.py:1620\u001b[39m, in \u001b[36mTextFileReader.__init__\u001b[39m\u001b[34m(self, f, engine, **kwds)\u001b[39m\n\u001b[32m   1617\u001b[39m     \u001b[38;5;28mself\u001b[39m.options[\u001b[33m\"\u001b[39m\u001b[33mhas_index_names\u001b[39m\u001b[33m\"\u001b[39m] = kwds[\u001b[33m\"\u001b[39m\u001b[33mhas_index_names\u001b[39m\u001b[33m\"\u001b[39m]\n\u001b[32m   1619\u001b[39m \u001b[38;5;28mself\u001b[39m.handles: IOHandles | \u001b[38;5;28;01mNone\u001b[39;00m = \u001b[38;5;28;01mNone\u001b[39;00m\n\u001b[32m-> \u001b[39m\u001b[32m1620\u001b[39m \u001b[38;5;28mself\u001b[39m._engine = \u001b[38;5;28;43mself\u001b[39;49m\u001b[43m.\u001b[49m\u001b[43m_make_engine\u001b[49m\u001b[43m(\u001b[49m\u001b[43mf\u001b[49m\u001b[43m,\u001b[49m\u001b[43m \u001b[49m\u001b[38;5;28;43mself\u001b[39;49m\u001b[43m.\u001b[49m\u001b[43mengine\u001b[49m\u001b[43m)\u001b[49m\n",
      "\u001b[36mFile \u001b[39m\u001b[32m~/Library/CloudStorage/GoogleDrive-yuri.slimaaa@gmail.com/My Drive/Business/Courses/Udacity/Data Scientist/GitHub/venv/lib/python3.12/site-packages/pandas/io/parsers/readers.py:1880\u001b[39m, in \u001b[36mTextFileReader._make_engine\u001b[39m\u001b[34m(self, f, engine)\u001b[39m\n\u001b[32m   1878\u001b[39m     \u001b[38;5;28;01mif\u001b[39;00m \u001b[33m\"\u001b[39m\u001b[33mb\u001b[39m\u001b[33m\"\u001b[39m \u001b[38;5;129;01mnot\u001b[39;00m \u001b[38;5;129;01min\u001b[39;00m mode:\n\u001b[32m   1879\u001b[39m         mode += \u001b[33m\"\u001b[39m\u001b[33mb\u001b[39m\u001b[33m\"\u001b[39m\n\u001b[32m-> \u001b[39m\u001b[32m1880\u001b[39m \u001b[38;5;28mself\u001b[39m.handles = \u001b[43mget_handle\u001b[49m\u001b[43m(\u001b[49m\n\u001b[32m   1881\u001b[39m \u001b[43m    \u001b[49m\u001b[43mf\u001b[49m\u001b[43m,\u001b[49m\n\u001b[32m   1882\u001b[39m \u001b[43m    \u001b[49m\u001b[43mmode\u001b[49m\u001b[43m,\u001b[49m\n\u001b[32m   1883\u001b[39m \u001b[43m    \u001b[49m\u001b[43mencoding\u001b[49m\u001b[43m=\u001b[49m\u001b[38;5;28;43mself\u001b[39;49m\u001b[43m.\u001b[49m\u001b[43moptions\u001b[49m\u001b[43m.\u001b[49m\u001b[43mget\u001b[49m\u001b[43m(\u001b[49m\u001b[33;43m\"\u001b[39;49m\u001b[33;43mencoding\u001b[39;49m\u001b[33;43m\"\u001b[39;49m\u001b[43m,\u001b[49m\u001b[43m \u001b[49m\u001b[38;5;28;43;01mNone\u001b[39;49;00m\u001b[43m)\u001b[49m\u001b[43m,\u001b[49m\n\u001b[32m   1884\u001b[39m \u001b[43m    \u001b[49m\u001b[43mcompression\u001b[49m\u001b[43m=\u001b[49m\u001b[38;5;28;43mself\u001b[39;49m\u001b[43m.\u001b[49m\u001b[43moptions\u001b[49m\u001b[43m.\u001b[49m\u001b[43mget\u001b[49m\u001b[43m(\u001b[49m\u001b[33;43m\"\u001b[39;49m\u001b[33;43mcompression\u001b[39;49m\u001b[33;43m\"\u001b[39;49m\u001b[43m,\u001b[49m\u001b[43m \u001b[49m\u001b[38;5;28;43;01mNone\u001b[39;49;00m\u001b[43m)\u001b[49m\u001b[43m,\u001b[49m\n\u001b[32m   1885\u001b[39m \u001b[43m    \u001b[49m\u001b[43mmemory_map\u001b[49m\u001b[43m=\u001b[49m\u001b[38;5;28;43mself\u001b[39;49m\u001b[43m.\u001b[49m\u001b[43moptions\u001b[49m\u001b[43m.\u001b[49m\u001b[43mget\u001b[49m\u001b[43m(\u001b[49m\u001b[33;43m\"\u001b[39;49m\u001b[33;43mmemory_map\u001b[39;49m\u001b[33;43m\"\u001b[39;49m\u001b[43m,\u001b[49m\u001b[43m \u001b[49m\u001b[38;5;28;43;01mFalse\u001b[39;49;00m\u001b[43m)\u001b[49m\u001b[43m,\u001b[49m\n\u001b[32m   1886\u001b[39m \u001b[43m    \u001b[49m\u001b[43mis_text\u001b[49m\u001b[43m=\u001b[49m\u001b[43mis_text\u001b[49m\u001b[43m,\u001b[49m\n\u001b[32m   1887\u001b[39m \u001b[43m    \u001b[49m\u001b[43merrors\u001b[49m\u001b[43m=\u001b[49m\u001b[38;5;28;43mself\u001b[39;49m\u001b[43m.\u001b[49m\u001b[43moptions\u001b[49m\u001b[43m.\u001b[49m\u001b[43mget\u001b[49m\u001b[43m(\u001b[49m\u001b[33;43m\"\u001b[39;49m\u001b[33;43mencoding_errors\u001b[39;49m\u001b[33;43m\"\u001b[39;49m\u001b[43m,\u001b[49m\u001b[43m \u001b[49m\u001b[33;43m\"\u001b[39;49m\u001b[33;43mstrict\u001b[39;49m\u001b[33;43m\"\u001b[39;49m\u001b[43m)\u001b[49m\u001b[43m,\u001b[49m\n\u001b[32m   1888\u001b[39m \u001b[43m    \u001b[49m\u001b[43mstorage_options\u001b[49m\u001b[43m=\u001b[49m\u001b[38;5;28;43mself\u001b[39;49m\u001b[43m.\u001b[49m\u001b[43moptions\u001b[49m\u001b[43m.\u001b[49m\u001b[43mget\u001b[49m\u001b[43m(\u001b[49m\u001b[33;43m\"\u001b[39;49m\u001b[33;43mstorage_options\u001b[39;49m\u001b[33;43m\"\u001b[39;49m\u001b[43m,\u001b[49m\u001b[43m \u001b[49m\u001b[38;5;28;43;01mNone\u001b[39;49;00m\u001b[43m)\u001b[49m\u001b[43m,\u001b[49m\n\u001b[32m   1889\u001b[39m \u001b[43m\u001b[49m\u001b[43m)\u001b[49m\n\u001b[32m   1890\u001b[39m \u001b[38;5;28;01massert\u001b[39;00m \u001b[38;5;28mself\u001b[39m.handles \u001b[38;5;129;01mis\u001b[39;00m \u001b[38;5;129;01mnot\u001b[39;00m \u001b[38;5;28;01mNone\u001b[39;00m\n\u001b[32m   1891\u001b[39m f = \u001b[38;5;28mself\u001b[39m.handles.handle\n",
      "\u001b[36mFile \u001b[39m\u001b[32m~/Library/CloudStorage/GoogleDrive-yuri.slimaaa@gmail.com/My Drive/Business/Courses/Udacity/Data Scientist/GitHub/venv/lib/python3.12/site-packages/pandas/io/common.py:873\u001b[39m, in \u001b[36mget_handle\u001b[39m\u001b[34m(path_or_buf, mode, encoding, compression, memory_map, is_text, errors, storage_options)\u001b[39m\n\u001b[32m    868\u001b[39m \u001b[38;5;28;01melif\u001b[39;00m \u001b[38;5;28misinstance\u001b[39m(handle, \u001b[38;5;28mstr\u001b[39m):\n\u001b[32m    869\u001b[39m     \u001b[38;5;66;03m# Check whether the filename is to be opened in binary mode.\u001b[39;00m\n\u001b[32m    870\u001b[39m     \u001b[38;5;66;03m# Binary mode does not support 'encoding' and 'newline'.\u001b[39;00m\n\u001b[32m    871\u001b[39m     \u001b[38;5;28;01mif\u001b[39;00m ioargs.encoding \u001b[38;5;129;01mand\u001b[39;00m \u001b[33m\"\u001b[39m\u001b[33mb\u001b[39m\u001b[33m\"\u001b[39m \u001b[38;5;129;01mnot\u001b[39;00m \u001b[38;5;129;01min\u001b[39;00m ioargs.mode:\n\u001b[32m    872\u001b[39m         \u001b[38;5;66;03m# Encoding\u001b[39;00m\n\u001b[32m--> \u001b[39m\u001b[32m873\u001b[39m         handle = \u001b[38;5;28;43mopen\u001b[39;49m\u001b[43m(\u001b[49m\n\u001b[32m    874\u001b[39m \u001b[43m            \u001b[49m\u001b[43mhandle\u001b[49m\u001b[43m,\u001b[49m\n\u001b[32m    875\u001b[39m \u001b[43m            \u001b[49m\u001b[43mioargs\u001b[49m\u001b[43m.\u001b[49m\u001b[43mmode\u001b[49m\u001b[43m,\u001b[49m\n\u001b[32m    876\u001b[39m \u001b[43m            \u001b[49m\u001b[43mencoding\u001b[49m\u001b[43m=\u001b[49m\u001b[43mioargs\u001b[49m\u001b[43m.\u001b[49m\u001b[43mencoding\u001b[49m\u001b[43m,\u001b[49m\n\u001b[32m    877\u001b[39m \u001b[43m            \u001b[49m\u001b[43merrors\u001b[49m\u001b[43m=\u001b[49m\u001b[43merrors\u001b[49m\u001b[43m,\u001b[49m\n\u001b[32m    878\u001b[39m \u001b[43m            \u001b[49m\u001b[43mnewline\u001b[49m\u001b[43m=\u001b[49m\u001b[33;43m\"\u001b[39;49m\u001b[33;43m\"\u001b[39;49m\u001b[43m,\u001b[49m\n\u001b[32m    879\u001b[39m \u001b[43m        \u001b[49m\u001b[43m)\u001b[49m\n\u001b[32m    880\u001b[39m     \u001b[38;5;28;01melse\u001b[39;00m:\n\u001b[32m    881\u001b[39m         \u001b[38;5;66;03m# Binary mode\u001b[39;00m\n\u001b[32m    882\u001b[39m         handle = \u001b[38;5;28mopen\u001b[39m(handle, ioargs.mode)\n",
      "\u001b[31mFileNotFoundError\u001b[39m: [Errno 2] No such file or directory: 'data/raw/olist_orders_dataset.csv'"
     ]
    }
   ],
   "source": [
    "# Load necessary libraries\n",
    "import pandas as pd\n",
    "import numpy as np\n",
    "import matplotlib.pyplot as plt\n",
    "import seaborn as sns\n",
    "\n",
    "# Load raw CSV files from Olist dataset\n",
    "orders = pd.read_csv(\"data/raw/olist_orders_dataset.csv\")\n",
    "customers = pd.read_csv(\"data/raw/olist_customers_dataset.csv\")\n",
    "order_items = pd.read_csv(\"data/raw/olist_order_items_dataset.csv\")\n",
    "products = pd.read_csv(\"data/raw/olist_products_dataset.csv\")\n",
    "reviews = pd.read_csv(\"data/raw/olist_order_reviews_dataset.csv\")\n",
    "payments = pd.read_csv(\"data/raw/olist_order_payments_dataset.csv\")\n",
    "\n",
    "# Preview one of the tables to check it's working\n",
    "orders.head()"
   ]
  },
  {
   "cell_type": "markdown",
   "id": "e56edd8a",
   "metadata": {},
   "source": [
    "## Step 2: Data Understanding"
   ]
  },
  {
   "cell_type": "code",
   "execution_count": null,
   "id": "efde2d65",
   "metadata": {
    "scrolled": true
   },
   "outputs": [],
   "source": [
    "# Define conversion: 1 = delivered, 0 = otherwise\n",
    "orders['converted'] = orders['order_status'].apply(lambda x: 1 if x == 'delivered' else 0)\n",
    "\n",
    "# Check distribution\n",
    "sns.countplot(x='converted', data=orders)\n",
    "plt.title('Order Conversion Distribution')\n",
    "plt.show()"
   ]
  },
  {
   "cell_type": "markdown",
   "id": "713de5b7",
   "metadata": {},
   "source": [
    "## Step 3: Data Preparation"
   ]
  },
  {
   "cell_type": "code",
   "execution_count": null,
   "id": "35572f9c",
   "metadata": {},
   "outputs": [],
   "source": [
    "# Merge key tables into a unified dataset for modeling\n",
    "\n",
    "# Merge orders with customers\n",
    "df = orders.merge(customers, on='customer_id', how='left')\n",
    "\n",
    "# Merge with order_items\n",
    "df = df.merge(order_items, on='order_id', how='left')\n",
    "\n",
    "# Merge with products\n",
    "df = df.merge(products, on='product_id', how='left')\n",
    "\n",
    "# Merge with reviews\n",
    "df = df.merge(reviews, on='order_id', how='left')\n",
    "\n",
    "# Merge with payments\n",
    "df = df.merge(payments, on='order_id', how='left')\n",
    "\n",
    "# Preview the merged dataset\n",
    "df.head()\n",
    "\n",
    "\n",
    "# Drop rows with missing critical values\n",
    "df = df.dropna(subset=['product_id', 'review_score', 'payment_type'])\n",
    "\n",
    "# Create modeling subset\n",
    "df_model = df[['converted', 'price', 'freight_value', 'review_score', 'payment_value', 'payment_type']]\n",
    "\n",
    "# Check structure\n",
    "df_model.info()\n",
    "df_model.head()"
   ]
  },
  {
   "cell_type": "markdown",
   "id": "3a741f74",
   "metadata": {},
   "source": [
    "## 🤖 Step 4: Modeling"
   ]
  },
  {
   "cell_type": "code",
   "execution_count": null,
   "id": "a6ef9f88",
   "metadata": {},
   "outputs": [],
   "source": [
    "# Encode categorical variable: payment_type\n",
    "df_model_encoded = pd.get_dummies(df_model, columns=['payment_type'], drop_first=True)\n",
    "\n",
    "# Split data into train/test\n",
    "from sklearn.model_selection import train_test_split\n",
    "\n",
    "X = df_model_encoded.drop('converted', axis=1)\n",
    "y = df_model_encoded['converted']\n",
    "\n",
    "X_train, X_test, y_train, y_test = train_test_split(X, y, test_size=0.2, random_state=42)\n",
    "\n",
    "# Train Random Forest Classifier\n",
    "from sklearn.ensemble import RandomForestClassifier\n",
    "from sklearn.metrics import classification_report, roc_auc_score\n",
    "\n",
    "model = RandomForestClassifier(n_estimators=100, random_state=42)\n",
    "model.fit(X_train, y_train)\n",
    "\n",
    "# Predict and evaluate\n",
    "y_pred = model.predict(X_test)\n",
    "y_proba = model.predict_proba(X_test)[:, 1]\n",
    "\n",
    "print(\"📊 Classification Report:\")\n",
    "print(classification_report(y_test, y_pred))\n",
    "print(f\"🔁 ROC AUC Score: {roc_auc_score(y_test, y_proba):.4f}\")\n",
    "\n",
    "# Feature importance (Optional but insightful!)\n",
    "import seaborn as sns\n",
    "import matplotlib.pyplot as plt\n",
    "\n",
    "feature_importances = pd.Series(model.feature_importances_, index=X.columns)\n",
    "feature_importances.nlargest(10).plot(kind='barh')\n",
    "plt.title(\"Top 10 Feature Importances\")\n",
    "plt.xlabel(\"Importance Score\")\n",
    "plt.ylabel(\"Feature\")\n",
    "plt.tight_layout()\n",
    "plt.show()"
   ]
  },
  {
   "cell_type": "markdown",
   "id": "fafeb4d3",
   "metadata": {},
   "source": [
    "## Step 5: Evaluation & Scenario"
   ]
  },
  {
   "cell_type": "code",
   "execution_count": null,
   "id": "0255dcca",
   "metadata": {},
   "outputs": [],
   "source": [
    "# Simulated prediction scenario\n",
    "# Pick a random example from the test set\n",
    "scenario = X_test.sample(1, random_state=1)\n",
    "\n",
    "# Predict conversion probability and class\n",
    "conversion_prob = model.predict_proba(scenario)[:, 1][0]\n",
    "converted_class = model.predict(scenario)[0]\n",
    "\n",
    "print(\"Prediction Scenario Features:\")\n",
    "display(scenario)\n",
    "\n",
    "print(f\"Predicted Conversion Probability: {conversion_prob:.2%}\")\n",
    "print(f\"Predicted Class: {'Converted (1)' if converted_class == 1 else 'Not Converted (0)'}\")\n",
    "\n",
    "# ------------------------------------------------------\n",
    "# What-If Analysis: Test impact of changing features\n",
    "\n",
    "# Create a version with lower price (simulate a discount)\n",
    "scenario_low_price = scenario.copy()\n",
    "scenario_low_price['price'] *= 0.8  # 20% discount\n",
    "\n",
    "# Create a version with higher review score\n",
    "scenario_high_review = scenario.copy()\n",
    "if 'review_score' in scenario_high_review.columns:\n",
    "    scenario_high_review['review_score'] = 5.0\n",
    "\n",
    "# Run predictions\n",
    "low_price_prob = model.predict_proba(scenario_low_price)[:, 1][0]\n",
    "high_review_prob = model.predict_proba(scenario_high_review)[:, 1][0]\n",
    "\n",
    "# Display comparison\n",
    "print(\"\\n What-If Analysis:\")\n",
    "print(f\"Lower Price (20% off) → Conversion Probability: {low_price_prob:.2%}\")\n",
    "print(f\"Review Score = 5.0     → Conversion Probability: {high_review_prob:.2%}\")"
   ]
  },
  {
   "cell_type": "markdown",
   "id": "a5994e5f",
   "metadata": {},
   "source": [
    "## Step 6: Conclusion\n",
    "\n",
    "### Summary of Key Insights\n",
    "- The model successfully predicts the likelihood of a user converting (placing an order) based on features like **price**, **freight cost**, **review score**, and **payment type**.\n",
    "- Listings with **lower prices** and **higher review scores** tend to have a significantly higher chance of conversion.\n",
    "- Payment types also played a role — with some payment methods slightly more associated with conversions than others.\n",
    "\n",
    "### Practical Impact\n",
    "This model could be used to:\n",
    "- **Prioritize listings** shown to users based on likelihood of conversion\n",
    "- Help sellers **optimize pricing or invest in customer experience**\n",
    "- Provide **product recommendations** that align with buyer behavior\n",
    "\n",
    "### Next Steps\n",
    "- Perform **hyperparameter tuning** and try other models like XGBoost or Logistic Regression\n",
    "- Add **session behavior data** (e.g., time spent on product pages, number of views)\n",
    "- Use SHAP values for better **explainability**\n",
    "- Consider building a **recommender system** that incorporates conversion predictions\n",
    "\n",
    "---\n",
    "\n",
    "This project demonstrates how data science can drive marketplace growth by focusing on measurable outcomes like conversion rates."
   ]
  }
 ],
 "metadata": {
  "kernelspec": {
   "display_name": "udacity-ds-project",
   "language": "python",
   "name": "udacity-ds-project"
  },
  "language_info": {
   "codemirror_mode": {
    "name": "ipython",
    "version": 3
   },
   "file_extension": ".py",
   "mimetype": "text/x-python",
   "name": "python",
   "nbconvert_exporter": "python",
   "pygments_lexer": "ipython3",
   "version": "3.12.6"
  }
 },
 "nbformat": 4,
 "nbformat_minor": 5
}
